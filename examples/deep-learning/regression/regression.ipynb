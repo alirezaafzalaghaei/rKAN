{
 "cells": [
  {
   "cell_type": "code",
   "execution_count": null,
   "id": "9c4862ef-f4d6-4a11-85cc-245b6e1efb85",
   "metadata": {},
   "outputs": [],
   "source": [
    "import matplotlib.pyplot as plt\n",
    "import numpy as np\n",
    "import torch\n",
    "import torch.nn.functional as F\n",
    "from rkan.torch import JacobiRKAN, PadeRKAN\n",
    "from sklearn.model_selection import train_test_split\n",
    "from torch import nn, optim"
   ]
  },
  {
   "cell_type": "code",
   "execution_count": null,
   "id": "52dd2ec9-c5e3-471d-bc05-1087c6e96286",
   "metadata": {},
   "outputs": [],
   "source": [
    "# Closure function\n",
    "def closure():\n",
    "    optimizer.zero_grad()  # Zero the gradients\n",
    "    outputs = mlp(X_train)  # Forward pass\n",
    "    loss = criterion(outputs, y_train)  # Compute the loss\n",
    "    loss.backward(retain_graph=True)  # Backward pass\n",
    "    return loss"
   ]
  },
  {
   "cell_type": "code",
   "execution_count": null,
   "id": "fa2eb25a-4303-49a2-8164-6e7f273b52fa",
   "metadata": {},
   "outputs": [],
   "source": [
    "Fs = [\n",
    "    lambda x: x / (1 + x**2),\n",
    "    lambda x: 1 / (1 + x**2),\n",
    "    lambda x: torch.exp(-(x**2)),\n",
    "]\n",
    "Activations = [\n",
    "    lambda q: JacobiRKAN(q),\n",
    "    lambda q: PadeRKAN(q, 2),\n",
    "    lambda q: PadeRKAN(q, 3),\n",
    "    lambda q: PadeRKAN(q, 4),\n",
    "    lambda q: PadeRKAN(q, 5),\n",
    "    lambda q: PadeRKAN(q, 6),\n",
    "    lambda q: fJNB(q),\n",
    "]"
   ]
  },
  {
   "cell_type": "code",
   "execution_count": null,
   "id": "b802b4ed-1ebe-47e8-8ea1-cf2bffd33846",
   "metadata": {},
   "outputs": [],
   "source": [
    "X = torch.rand(300, requires_grad=True).reshape(-1, 1)\n",
    "a, b = -10, 10\n",
    "X = a + (b - a) * X"
   ]
  },
  {
   "cell_type": "code",
   "execution_count": null,
   "id": "7d5f095c-382c-4714-85c6-283dabe510e3",
   "metadata": {},
   "outputs": [],
   "source": [
    "criterion = nn.MSELoss()"
   ]
  },
  {
   "cell_type": "code",
   "execution_count": null,
   "id": "a660bb0a-617b-4210-bf7b-30bd4c1fbaa5",
   "metadata": {},
   "outputs": [],
   "source": [
    "for trial in range(5):\n",
    "    for fn, f in enumerate(Fs):\n",
    "        y = f(X)\n",
    "        X_train, X_test, y_train, y_test = train_test_split(\n",
    "            X, y, test_size=0.33, random_state=0\n",
    "        )\n",
    "\n",
    "        for q in range(2,7):\n",
    "            for act, Activation in enumerate(Activations):\n",
    "\n",
    "                mlp = nn.Sequential(\n",
    "                    nn.Linear(1, 10),\n",
    "                    Activation(q),\n",
    "                    nn.Linear(10, 10),\n",
    "                    Activation(q),\n",
    "                    nn.Linear(10, 1),\n",
    "                )\n",
    "                optimizer = optim.LBFGS(list(mlp.parameters()), lr=0.001)\n",
    "                for i in range(1, 10):\n",
    "                    optimizer.step(closure)\n",
    "                train_pred = mlp(X_train)\n",
    "\n",
    "                train_loss = criterion(train_pred, y_train).detach().numpy()\n",
    "\n",
    "                test_pred = mlp(X_test)\n",
    "                test_loss = criterion(test_pred, y_test).detach().numpy()\n",
    "                print(\n",
    "                    \"%d,%d,%d,%d,%.3e,%.3e\"\n",
    "                    % (trial, q, act, fn, train_loss, test_loss),\n",
    "                    file=open(\"activation_comparison.csv\", \"a\"),\n",
    "                )\n",
    "                print(\n",
    "                    \"%d,%d,%d,%d,%.3e,%.3e\" % (trial, q, act, fn, train_loss, test_loss)\n",
    "                )"
   ]
  },
  {
   "cell_type": "code",
   "execution_count": null,
   "id": "346e16ea-1100-46af-93db-2096574d68e6",
   "metadata": {},
   "outputs": [],
   "source": []
  }
 ],
 "metadata": {
  "kernelspec": {
   "display_name": "Python 3 (ipykernel)",
   "language": "python",
   "name": "python3"
  },
  "language_info": {
   "codemirror_mode": {
    "name": "ipython",
    "version": 3
   },
   "file_extension": ".py",
   "mimetype": "text/x-python",
   "name": "python",
   "nbconvert_exporter": "python",
   "pygments_lexer": "ipython3",
   "version": "3.11.5"
  }
 },
 "nbformat": 4,
 "nbformat_minor": 5
}
