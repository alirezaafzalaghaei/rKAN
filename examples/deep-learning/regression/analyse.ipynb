{
 "cells": [
  {
   "cell_type": "code",
   "execution_count": 1,
   "id": "9de73401-439b-4250-ab0b-95cb7536b6c1",
   "metadata": {
    "execution": {
     "iopub.execute_input": "2024-06-21T02:18:01.476470Z",
     "iopub.status.busy": "2024-06-21T02:18:01.476307Z",
     "iopub.status.idle": "2024-06-21T02:18:01.702354Z",
     "shell.execute_reply": "2024-06-21T02:18:01.701765Z",
     "shell.execute_reply.started": "2024-06-21T02:18:01.476455Z"
    }
   },
   "outputs": [],
   "source": [
    "import numpy as np\n",
    "import pandas as pd"
   ]
  },
  {
   "cell_type": "code",
   "execution_count": 2,
   "id": "490f8081-fcd5-4d3f-be6c-c232e6f7344b",
   "metadata": {
    "execution": {
     "iopub.execute_input": "2024-06-21T02:18:01.703007Z",
     "iopub.status.busy": "2024-06-21T02:18:01.702846Z",
     "iopub.status.idle": "2024-06-21T02:18:01.708745Z",
     "shell.execute_reply": "2024-06-21T02:18:01.708294Z",
     "shell.execute_reply.started": "2024-06-21T02:18:01.702997Z"
    }
   },
   "outputs": [],
   "source": [
    "df = pd.read_csv(\"activation_comparison.csv\", skip_blank_lines=True, header=None)\n",
    "df.columns = [\"trial\", \"q\", \"act\", \"fn\", \"train\", \"test\"]"
   ]
  },
  {
   "cell_type": "code",
   "execution_count": 3,
   "id": "96caa278-e2fd-49cd-a1db-e3fd47019531",
   "metadata": {
    "execution": {
     "iopub.execute_input": "2024-06-21T02:18:01.709521Z",
     "iopub.status.busy": "2024-06-21T02:18:01.709358Z",
     "iopub.status.idle": "2024-06-21T02:18:01.744311Z",
     "shell.execute_reply": "2024-06-21T02:18:01.743428Z",
     "shell.execute_reply.started": "2024-06-21T02:18:01.709505Z"
    }
   },
   "outputs": [],
   "source": [
    "mean_df = (\n",
    "    df.groupby([\"q\", \"act\", \"fn\"])[[\"train\", \"test\"]]\n",
    "    .apply(lambda g: g.mean(skipna=True))\n",
    "    .reset_index()\n",
    ")\n",
    "\n",
    "for fn in range(3):\n",
    "    table = mean_df[mean_df[\"fn\"] == fn][[\"q\", \"act\", \"test\"]]\n",
    "    pivoted_df = table.pivot(index=\"act\", columns=\"q\", values=\"test\")\n",
    "    pivoted_df.to_csv(\"function-%d.csv\" % fn, index=None)"
   ]
  }
 ],
 "metadata": {
  "kernelspec": {
   "display_name": "Python 3 (ipykernel)",
   "language": "python",
   "name": "python3"
  },
  "language_info": {
   "codemirror_mode": {
    "name": "ipython",
    "version": 3
   },
   "file_extension": ".py",
   "mimetype": "text/x-python",
   "name": "python",
   "nbconvert_exporter": "python",
   "pygments_lexer": "ipython3",
   "version": "3.11.5"
  }
 },
 "nbformat": 4,
 "nbformat_minor": 5
}
