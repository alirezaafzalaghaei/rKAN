{
 "cells": [
  {
   "cell_type": "code",
   "execution_count": null,
   "id": "0942fb5d-ff01-4c09-b769-3370fb26aaf2",
   "metadata": {
    "execution": {
     "iopub.execute_input": "2024-06-19T20:41:57.930717Z",
     "iopub.status.busy": "2024-06-19T20:41:57.930053Z",
     "iopub.status.idle": "2024-06-19T20:41:57.947210Z",
     "shell.execute_reply": "2024-06-19T20:41:57.944841Z",
     "shell.execute_reply.started": "2024-06-19T20:41:57.930661Z"
    }
   },
   "outputs": [],
   "source": [
    "import glob\n",
    "import os\n",
    "import re\n",
    "\n",
    "import matplotlib as mpl\n",
    "import matplotlib.pyplot as plt\n",
    "import matplotlib.ticker as ticker\n",
    "import numpy as np\n",
    "import scienceplots\n",
    "import torch\n",
    "from mpl_toolkits.mplot3d import Axes3D\n",
    "from rkan.torch import JacobiRKAN, PadeRKAN\n",
    "from torch import nn, optim\n",
    "\n",
    "plt.style.use(\"science\")\n",
    "mpl.use(\"pgf\")\n",
    "\n",
    "plt.rcParams.update(\n",
    "    {\"text.usetex\": True, \"pgf.preamble\": r\"\\usepackage{amssymb} \\usepackage{amsmath}\"}\n",
    ")"
   ]
  },
  {
   "cell_type": "code",
   "execution_count": 30,
   "id": "2345a65a-cfb2-407e-b633-a2415d02ce29",
   "metadata": {
    "execution": {
     "iopub.execute_input": "2024-06-19T20:41:58.723932Z",
     "iopub.status.busy": "2024-06-19T20:41:58.722803Z",
     "iopub.status.idle": "2024-06-19T20:41:58.731644Z",
     "shell.execute_reply": "2024-06-19T20:41:58.729444Z",
     "shell.execute_reply.started": "2024-06-19T20:41:58.723888Z"
    }
   },
   "outputs": [],
   "source": [
    "def dy_dx(y, x):\n",
    "    return torch.autograd.grad(\n",
    "        y, x, grad_outputs=torch.ones_like(y), create_graph=True\n",
    "    )[0]"
   ]
  },
  {
   "cell_type": "code",
   "execution_count": 38,
   "id": "cbda3550-2bf5-43ea-afe9-cc26d05dfb56",
   "metadata": {
    "execution": {
     "iopub.execute_input": "2024-06-19T20:42:25.476217Z",
     "iopub.status.busy": "2024-06-19T20:42:25.475805Z",
     "iopub.status.idle": "2024-06-19T20:42:25.482804Z",
     "shell.execute_reply": "2024-06-19T20:42:25.481157Z",
     "shell.execute_reply.started": "2024-06-19T20:42:25.476189Z"
    }
   },
   "outputs": [],
   "source": [
    "def closure():\n",
    "    loss = get_loss(x, y)\n",
    "    optimizer.zero_grad()\n",
    "    loss.backward()\n",
    "    return loss"
   ]
  },
  {
   "cell_type": "code",
   "execution_count": 31,
   "id": "485012d7-b6e8-4429-bf1d-fdbcd0a946de",
   "metadata": {
    "execution": {
     "iopub.execute_input": "2024-06-19T20:42:02.094378Z",
     "iopub.status.busy": "2024-06-19T20:42:02.093863Z",
     "iopub.status.idle": "2024-06-19T20:42:02.103736Z",
     "shell.execute_reply": "2024-06-19T20:42:02.102222Z",
     "shell.execute_reply.started": "2024-06-19T20:42:02.094340Z"
    }
   },
   "outputs": [],
   "source": [
    "x = torch.linspace(0, 1, 50, requires_grad=True)\n",
    "y = torch.linspace(0, 1, 50, requires_grad=True)\n",
    "\n",
    "x, y = torch.meshgrid(x, y, indexing=\"ij\")\n",
    "x = x.reshape(-1, 1)\n",
    "y = y.reshape(-1, 1)"
   ]
  },
  {
   "cell_type": "code",
   "execution_count": 34,
   "id": "ea4f4ead-c336-4284-b694-5041e063adc9",
   "metadata": {
    "execution": {
     "iopub.execute_input": "2024-06-19T20:42:08.692357Z",
     "iopub.status.busy": "2024-06-19T20:42:08.690645Z",
     "iopub.status.idle": "2024-06-19T20:42:08.701661Z",
     "shell.execute_reply": "2024-06-19T20:42:08.699707Z",
     "shell.execute_reply.started": "2024-06-19T20:42:08.692307Z"
    }
   },
   "outputs": [],
   "source": [
    "from torch import nn\n",
    "\n",
    "mlp = nn.Sequential(\n",
    "    nn.Linear(2, 10),\n",
    "    JacobiRKAN(4),\n",
    "    nn.Linear(10, 10),\n",
    "    JacobiRKAN(4),\n",
    "    nn.Linear(10, 1),\n",
    ")"
   ]
  },
  {
   "cell_type": "code",
   "execution_count": 35,
   "id": "cbd2b1ce-40ee-4e8d-af5d-4b9b4814b8f0",
   "metadata": {
    "execution": {
     "iopub.execute_input": "2024-06-19T20:42:09.294904Z",
     "iopub.status.busy": "2024-06-19T20:42:09.294460Z",
     "iopub.status.idle": "2024-06-19T20:42:09.303196Z",
     "shell.execute_reply": "2024-06-19T20:42:09.301804Z",
     "shell.execute_reply.started": "2024-06-19T20:42:09.294873Z"
    }
   },
   "outputs": [],
   "source": [
    "optimizer = optim.LBFGS(list(mlp.parameters()), lr=0.1)"
   ]
  },
  {
   "cell_type": "code",
   "execution_count": 36,
   "id": "158e75b6-ed89-4308-b4a2-44207d1a028b",
   "metadata": {
    "execution": {
     "iopub.execute_input": "2024-06-19T20:42:21.616202Z",
     "iopub.status.busy": "2024-06-19T20:42:21.615753Z",
     "iopub.status.idle": "2024-06-19T20:42:21.623298Z",
     "shell.execute_reply": "2024-06-19T20:42:21.621683Z",
     "shell.execute_reply.started": "2024-06-19T20:42:21.616171Z"
    }
   },
   "outputs": [],
   "source": [
    "Exact = lambda x, y: -1 / (2 * np.pi**2) * torch.sin(np.pi * x) * torch.sin(np.pi * y)"
   ]
  },
  {
   "cell_type": "code",
   "execution_count": 37,
   "id": "f3c7b114-6d25-464e-9759-8ebaae157f48",
   "metadata": {
    "execution": {
     "iopub.execute_input": "2024-06-19T20:42:23.753461Z",
     "iopub.status.busy": "2024-06-19T20:42:23.753016Z",
     "iopub.status.idle": "2024-06-19T20:42:23.889894Z",
     "shell.execute_reply": "2024-06-19T20:42:23.888980Z",
     "shell.execute_reply.started": "2024-06-19T20:42:23.753430Z"
    }
   },
   "outputs": [
    {
     "data": {
      "text/plain": [
       "tensor(1409404., grad_fn=<MulBackward0>)"
      ]
     },
     "execution_count": 37,
     "metadata": {},
     "output_type": "execute_result"
    }
   ],
   "source": [
    "def get_loss(x, y):\n",
    "    x_y = torch.cat((x, y), 1)\n",
    "    x_0 = torch.cat((x, 0 * y), 1)\n",
    "    x_1 = torch.cat((x, 0 * y + 1), 1)\n",
    "    z_y = torch.cat((0 * x, y), 1)\n",
    "    o_y = torch.cat((1 + 0 * x, y), 1)\n",
    "\n",
    "    u = mlp.forward(x_y)\n",
    "    u_y = dy_dx(u, y)\n",
    "    u_x = dy_dx(u, x)\n",
    "    u_xx = dy_dx(u_x, x)\n",
    "    u_yy = dy_dx(u_y, y)\n",
    "\n",
    "    residual_pde = u_xx + u_yy - torch.sin(np.pi * x) * torch.sin(np.pi * y)\n",
    "\n",
    "    residual_bdy1 = mlp.forward(x_0) - Exact(x, torch.tensor(0))\n",
    "    residual_bdy2 = mlp.forward(x_1) - Exact(x, torch.tensor(1))\n",
    "    residual_bdy3 = mlp.forward(z_y) - Exact(torch.tensor(0), y)\n",
    "    residual_bdy4 = mlp.forward(o_y) - Exact(torch.tensor(1), y)\n",
    "\n",
    "    loss = 1e6 * (\n",
    "        (residual_pde**2).mean()\n",
    "        + (residual_bdy1**2).mean()\n",
    "        + (residual_bdy2**2).mean()\n",
    "        + (residual_bdy3**2).mean()\n",
    "        + (residual_bdy4**2).mean()\n",
    "    )\n",
    "    return loss\n",
    "\n",
    "\n",
    "get_loss(x, y)"
   ]
  },
  {
   "cell_type": "code",
   "execution_count": 39,
   "id": "aa165b2d-ad27-41ac-bdec-a881958b7b30",
   "metadata": {
    "execution": {
     "iopub.execute_input": "2024-06-19T20:42:28.420791Z",
     "iopub.status.busy": "2024-06-19T20:42:28.420374Z",
     "iopub.status.idle": "2024-06-19T20:45:03.294570Z",
     "shell.execute_reply": "2024-06-19T20:45:03.293734Z",
     "shell.execute_reply.started": "2024-06-19T20:42:28.420763Z"
    }
   },
   "outputs": [
    {
     "name": "stdout",
     "output_type": "stream",
     "text": [
      "Epoch   1: Current loss: 1.41e+06\n",
      "Epoch   2: Current loss: 7.94e+04\n",
      "Epoch   3: Current loss: 4.37e+03\n",
      "Epoch   4: Current loss: 7.12e+02\n",
      "Epoch   5: Current loss: 3.16e+02\n",
      "Epoch   6: Current loss: 1.84e+02\n",
      "Epoch   7: Current loss: 9.23e+01\n",
      "Epoch   8: Current loss: 5.99e+01\n",
      "Epoch   9: Current loss: 4.48e+01\n",
      "Epoch  10: Current loss: 2.40e+01\n",
      "Epoch  11: Current loss: 1.97e+01\n",
      "Epoch  12: Current loss: 1.67e+01\n",
      "Epoch  13: Current loss: 1.45e+01\n",
      "Epoch  14: Current loss: 1.33e+01\n",
      "Epoch  15: Current loss: 1.30e+01\n",
      "Epoch  16: Current loss: 1.27e+01\n",
      "Epoch  17: Current loss: 1.20e+01\n",
      "Epoch  18: Current loss: 1.14e+01\n",
      "Epoch  19: Current loss: 1.07e+01\n",
      "Epoch  20: Current loss: 1.04e+01\n",
      "Epoch  21: Current loss: 1.02e+01\n",
      "Epoch  22: Current loss: 9.75e+00\n",
      "Epoch  23: Current loss: 9.23e+00\n",
      "Epoch  24: Current loss: 8.78e+00\n",
      "Epoch  25: Current loss: 8.27e+00\n",
      "Epoch  26: Current loss: 7.98e+00\n",
      "Epoch  27: Current loss: 7.85e+00\n",
      "Epoch  28: Current loss: 7.89e+00\n",
      "Epoch  29: Current loss: 7.71e+00\n",
      "Epoch  30: Current loss: 7.56e+00\n",
      "Epoch  31: Current loss: 7.52e+00\n",
      "Epoch  32: Current loss: 7.49e+00\n",
      "Epoch  33: Current loss: 7.51e+00\n",
      "Epoch  34: Current loss: 7.48e+00\n",
      "Epoch  35: Current loss: 7.46e+00\n",
      "Epoch  36: Current loss: 7.43e+00\n",
      "Epoch  37: Current loss: 7.36e+00\n",
      "Epoch  38: Current loss: 7.19e+00\n",
      "Epoch  39: Current loss: 7.13e+00\n",
      "Epoch  40: Current loss: 7.10e+00\n",
      "Epoch  41: Current loss: 7.07e+00\n",
      "Epoch  42: Current loss: 7.01e+00\n",
      "Epoch  43: Current loss: 6.91e+00\n",
      "Epoch  44: Current loss: 6.81e+00\n",
      "Epoch  45: Current loss: 6.77e+00\n",
      "Epoch  46: Current loss: 6.72e+00\n",
      "Epoch  47: Current loss: 6.68e+00\n",
      "Epoch  48: Current loss: 6.59e+00\n",
      "Epoch  49: Current loss: 6.19e+00\n"
     ]
    }
   ],
   "source": [
    "losses = []\n",
    "\n",
    "for i in range(1, 50):\n",
    "    loss = get_loss(x, y)\n",
    "    optimizer.step(closure)\n",
    "    losses.append(loss.detach().numpy())\n",
    "    if i % 1 == 0:\n",
    "        print(\"Epoch %3d: Current loss: %.2e\" % (i, losses[-1]))"
   ]
  },
  {
   "cell_type": "code",
   "execution_count": 43,
   "id": "312194d7-9c86-486a-99ff-5258ba31c5f3",
   "metadata": {
    "execution": {
     "iopub.execute_input": "2024-06-19T20:46:08.693709Z",
     "iopub.status.busy": "2024-06-19T20:46:08.693079Z",
     "iopub.status.idle": "2024-06-19T20:46:08.718295Z",
     "shell.execute_reply": "2024-06-19T20:46:08.717070Z",
     "shell.execute_reply.started": "2024-06-19T20:46:08.693658Z"
    }
   },
   "outputs": [
    {
     "name": "stdout",
     "output_type": "stream",
     "text": [
      "Mean Absolute Error: 2.59e-04\n"
     ]
    }
   ],
   "source": [
    "Nx, Nt = 31, 25\n",
    "x = torch.linspace(0, 1, Nx)\n",
    "t = torch.linspace(0, 1, Nt)\n",
    "\n",
    "x, t = torch.meshgrid(x, t, indexing=\"ij\")\n",
    "x = x.reshape(-1, 1)\n",
    "t = t.reshape(-1, 1)\n",
    "x_t = torch.cat((x, t), 1)\n",
    "\n",
    "exact = Exact(x, t).reshape(Nx, Nt)\n",
    "predict = mlp.forward(x_t).reshape(Nx, Nt)\n",
    "error = exact - predict\n",
    "\n",
    "MAE = torch.abs(error).mean()\n",
    "\n",
    "print(\"Mean Absolute Error: %.2e\" % MAE)"
   ]
  },
  {
   "cell_type": "code",
   "execution_count": 44,
   "id": "f4f7658a-ad72-4214-9578-a48630831bb1",
   "metadata": {
    "execution": {
     "iopub.execute_input": "2024-06-19T20:46:09.512812Z",
     "iopub.status.busy": "2024-06-19T20:46:09.512338Z",
     "iopub.status.idle": "2024-06-19T20:46:09.615190Z",
     "shell.execute_reply": "2024-06-19T20:46:09.614446Z",
     "shell.execute_reply.started": "2024-06-19T20:46:09.512776Z"
    }
   },
   "outputs": [
    {
     "data": {
      "text/plain": [
       "[<matplotlib.lines.Line2D at 0x76644dfe3a50>]"
      ]
     },
     "execution_count": 44,
     "metadata": {},
     "output_type": "execute_result"
    }
   ],
   "source": [
    "import matplotlib.pyplot as plt\n",
    "import numpy as np\n",
    "\n",
    "x = x.reshape(Nx, Nt)\n",
    "t = t.reshape(Nx, Nt)\n",
    "\n",
    "fig = plt.figure(figsize=(15, 5))\n",
    "ax = fig.add_subplot(131, projection=\"3d\")\n",
    "ax.plot_surface(x, t, predict.detach().numpy(), cmap=\"viridis\")\n",
    "ax.view_init(10, 45)\n",
    "\n",
    "ax = fig.add_subplot(132, projection=\"3d\")\n",
    "ax.plot_surface(x, t, exact.detach().numpy(), cmap=\"viridis\")\n",
    "ax.view_init(10, 45)\n",
    "ax = fig.add_subplot(133, projection=\"3d\")\n",
    "ax.plot_surface(x, t, error.detach().numpy(), cmap=\"viridis\")\n",
    "ax.view_init(10, 45)\n",
    "fig = plt.figure(figsize=(15, 5))\n",
    "ax = fig.add_subplot(111)\n",
    "ax.plot(np.log10(losses), \"c\", label=\"Loss\")"
   ]
  },
  {
   "cell_type": "code",
   "execution_count": 50,
   "id": "786f4fa9-4a4c-4792-ba1b-21fbf76dc75f",
   "metadata": {
    "execution": {
     "iopub.execute_input": "2024-06-19T21:58:47.673541Z",
     "iopub.status.busy": "2024-06-19T21:58:47.673130Z",
     "iopub.status.idle": "2024-06-19T21:58:51.981729Z",
     "shell.execute_reply": "2024-06-19T21:58:51.980412Z",
     "shell.execute_reply.started": "2024-06-19T21:58:47.673511Z"
    }
   },
   "outputs": [],
   "source": [
    "fig = plt.figure(figsize=(12, 7))\n",
    "\n",
    "ax = fig.add_subplot(111, projection=\"3d\")\n",
    "\n",
    "ax.plot_surface(x, t, predict.detach().numpy(), cmap=\"viridis\")\n",
    "\n",
    "ax.xaxis.pane.fill = False\n",
    "ax.yaxis.pane.fill = False\n",
    "ax.zaxis.pane.fill = False\n",
    "\n",
    "ax.xaxis.pane.set_edgecolor(\"w\")\n",
    "ax.yaxis.pane.set_edgecolor(\"w\")\n",
    "ax.zaxis.pane.set_edgecolor(\"w\")\n",
    "ax.set_yticks([0, 0.5, 1])\n",
    "ax.set_xlabel(r\"$\\xi_1$\")\n",
    "ax.set_ylabel(r\"$\\xi_2$\")\n",
    "ax.set_zlabel(r\"$\\hat{F}(\\xi_1,\\xi_2)$\")\n",
    "ax.view_init(elev=15, azim=-260)\n",
    "\n",
    "plt.savefig(\n",
    "    \"elliptic-prediction.pdf\",\n",
    "    bbox_inches=\"tight\",\n",
    "    pad_inches=0,\n",
    ")\n",
    "\n",
    "fig = plt.figure(figsize=(6, 7))\n",
    "ax = fig.add_subplot(111, projection=\"3d\")\n",
    "\n",
    "ax.plot_surface(x, t, error.detach().numpy(), cmap=\"viridis\")\n",
    "\n",
    "ax.xaxis.pane.fill = False\n",
    "ax.yaxis.pane.fill = False\n",
    "ax.zaxis.pane.fill = False\n",
    "\n",
    "ax.xaxis.pane.set_edgecolor(\"w\")\n",
    "ax.yaxis.pane.set_edgecolor(\"w\")\n",
    "ax.zaxis.pane.set_edgecolor(\"w\")\n",
    "ax.set_yticks([0, 0.5, 1])\n",
    "ax.set_xlabel(r\"$\\xi_1$\")\n",
    "ax.set_ylabel(r\"$\\xi_2$\")\n",
    "ax.set_zlabel(r\"$\\mathfrak{R}(\\xi_1,\\xi_2)$\")\n",
    "ax.view_init(elev=25, azim=-260)\n",
    "\n",
    "\n",
    "plt.savefig(\n",
    "    \"elliptic-residual.pdf\",\n",
    "    bbox_inches=\"tight\",\n",
    "    pad_inches=0,\n",
    ")"
   ]
  },
  {
   "cell_type": "code",
   "execution_count": null,
   "id": "5736f667-0509-4d92-b078-7e2f1b3ab5cf",
   "metadata": {},
   "outputs": [],
   "source": []
  }
 ],
 "metadata": {
  "kernelspec": {
   "display_name": "Python 3 (ipykernel)",
   "language": "python",
   "name": "python3"
  },
  "language_info": {
   "codemirror_mode": {
    "name": "ipython",
    "version": 3
   },
   "file_extension": ".py",
   "mimetype": "text/x-python",
   "name": "python",
   "nbconvert_exporter": "python",
   "pygments_lexer": "ipython3",
   "version": "3.11.5"
  }
 },
 "nbformat": 4,
 "nbformat_minor": 5
}
